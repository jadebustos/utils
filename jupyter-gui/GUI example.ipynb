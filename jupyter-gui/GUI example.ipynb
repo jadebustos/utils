{
 "cells": [
  {
   "cell_type": "markdown",
   "id": "b842aebe-8d64-40a7-a2de-2e490a1a1d69",
   "metadata": {},
   "source": [
    "# Example about creating GUIs within Jupyter Notebooks\n",
    "\n",
    "Graphical widgets can be created within Jupyter Notebooks to ease Jupyter Notebook usage.\n",
    "\n",
    "Documentation for widgets in Jupyter Notebooks is placed in https://ipywidgets.readthedocs.io/en/7.x/\n",
    "\n",
    "All code for the widgets is placed in the directory modules, so we need to import it. This is done to improve user experience.\n",
    "\n",
    "To import the modules:"
   ]
  },
  {
   "cell_type": "code",
   "execution_count": 1,
   "id": "e9bd9b33-1bd6-4f24-8f99-41387215c066",
   "metadata": {},
   "outputs": [],
   "source": [
    "from modules.input_data import *"
   ]
  },
  {
   "cell_type": "markdown",
   "id": "0d899a46-96de-4824-b89e-bb77a490105b",
   "metadata": {},
   "source": [
    "For the sake of simplicity all code is placed in the same python file. To display the widgets we need use the display function. The following is a way to import several files:\n"
   ]
  },
  {
   "cell_type": "code",
   "execution_count": 2,
   "id": "18d7b319-8c0d-4f3f-8cda-2bbd17285466",
   "metadata": {},
   "outputs": [
    {
     "data": {
      "application/vnd.jupyter.widget-view+json": {
       "model_id": "51daf49c18e64bd993e0f486b5eafb32",
       "version_major": 2,
       "version_minor": 0
      },
      "text/plain": [
       "FileUpload(value=(), accept='*.txt', description='Upload', multiple=True)"
      ]
     },
     "metadata": {},
     "output_type": "display_data"
    }
   ],
   "source": [
    "display(report_file)"
   ]
  },
  {
   "cell_type": "markdown",
   "id": "1fe3210e-4539-420e-85e8-e1597ab6cd9b",
   "metadata": {},
   "source": [
    "An array of python dicts is stored in **report__file**. The stored information can be viewed:"
   ]
  },
  {
   "cell_type": "code",
   "execution_count": 3,
   "id": "f28dc0dc-de85-4aa8-9a6a-913c16e28e86",
   "metadata": {},
   "outputs": [
    {
     "data": {
      "text/plain": [
       "({'name': 'ai.txt',\n",
       "  'type': 'text/plain',\n",
       "  'size': 31,\n",
       "  'content': <memory at 0x7f65c44107c0>,\n",
       "  'last_modified': datetime.datetime(2023, 6, 28, 17, 24, 32, 954000, tzinfo=datetime.timezone.utc)},)"
      ]
     },
     "execution_count": 3,
     "metadata": {},
     "output_type": "execute_result"
    }
   ],
   "source": [
    "report_file.value"
   ]
  },
  {
   "cell_type": "markdown",
   "id": "b92ac4df-9a8a-4fb6-82cb-23412cb29cca",
   "metadata": {},
   "source": [
    "We can access"
   ]
  },
  {
   "cell_type": "code",
   "execution_count": null,
   "id": "43665e11-3490-496b-992d-fa1617b722c4",
   "metadata": {},
   "outputs": [],
   "source": [
    "import ctypes\n",
    "import codecs\n",
    "\n",
    "address = id(report_file.value[0]['content'])\n",
    "read_content = (ctypes.c_char * 31).from_address(address)\n",
    "print(read_content)\n",
    "type(read_content)\n",
    "\n",
    "print(read_content.raw)\n",
    "\n",
    "data = bytearray(read_content)\n",
    "#read_content.raw.decode('unicode_escape')\n",
    "#data.decode('utf-8')\n",
    "type(data)"
   ]
  },
  {
   "cell_type": "code",
   "execution_count": null,
   "id": "b4ce354c-19d9-4674-8a6c-f9a692972229",
   "metadata": {},
   "outputs": [],
   "source": [
    "main_display = widgets.Output()\n",
    "\n",
    "def show_it(inputs):\n",
    "    with main_display:\n",
    "        main_display.clear_output()\n",
    "        display(list(inputs['new'].keys())[-1])\n",
    "        \n",
    "report_file.observe(show_it, names='value')"
   ]
  },
  {
   "cell_type": "code",
   "execution_count": null,
   "id": "df8907cf-1b04-433f-9fb3-05c8f168b122",
   "metadata": {},
   "outputs": [],
   "source": [
    "import ipywidgets as widgets\n",
    "\n",
    "button = widgets.Button(\n",
    "    description='Click me',\n",
    "    disabled=False,\n",
    "    button_style='', # 'success', 'info', 'warning', 'danger' or ''\n",
    "    tooltip='Click me',\n",
    "    icon='check'\n",
    ")"
   ]
  },
  {
   "cell_type": "markdown",
   "id": "c67f7c67-03bc-45d0-9ab3-d7fbba954531",
   "metadata": {},
   "source": [
    "Using [FileChooser](https://pypi.org/project/ipyfilechooser/) we can easyly choose a file from the filesystem:"
   ]
  },
  {
   "cell_type": "code",
   "execution_count": 4,
   "id": "2e8426f4-feb0-46b6-988f-b1aff0eb9f9f",
   "metadata": {},
   "outputs": [
    {
     "data": {
      "application/vnd.jupyter.widget-view+json": {
       "model_id": "74796c391e85469f9d384c108a344e67",
       "version_major": 2,
       "version_minor": 0
      },
      "text/plain": [
       "FileChooser(path='/home/jadebustos/src/mygithub/utils/jupyter-gui', filename='test.txt', title='<b>FileChooser…"
      ]
     },
     "metadata": {},
     "output_type": "display_data"
    }
   ],
   "source": [
    "display(fdialog)"
   ]
  },
  {
   "cell_type": "markdown",
   "id": "47cc606e-5883-4a64-9df3-6f7fc6f3f0e8",
   "metadata": {},
   "source": [
    "We can use several properties to access file path so we can manage the file using its route path:"
   ]
  },
  {
   "cell_type": "code",
   "execution_count": 5,
   "id": "88ddadbc-fe61-494f-ac9d-86e854d61ae3",
   "metadata": {},
   "outputs": [
    {
     "name": "stdout",
     "output_type": "stream",
     "text": [
      "/home/jadebustos/src/mygithub/utils/jupyter-gui/GUI example.ipynb\n",
      "/home/jadebustos/src/mygithub/utils/jupyter-gui/GUI example.ipynb\n",
      "/home/jadebustos/src/mygithub/utils/jupyter-gui\n",
      "GUI example.ipynb\n"
     ]
    }
   ],
   "source": [
    "print(fdialog.value)\n",
    "print(fdialog.selected)\n",
    "print(fdialog.selected_path)\n",
    "print(fdialog.selected_filename)"
   ]
  },
  {
   "cell_type": "markdown",
   "id": "9e9c67e9-170d-44fd-95cc-d919701e7440",
   "metadata": {},
   "source": [
    "Dropdown elements for selection can be used:"
   ]
  },
  {
   "cell_type": "code",
   "execution_count": 6,
   "id": "46626df8-8c48-4d36-a75d-5c8cae994e1a",
   "metadata": {},
   "outputs": [
    {
     "data": {
      "application/vnd.jupyter.widget-view+json": {
       "model_id": "154cfb1b854b44c28b73d525905e5287",
       "version_major": 2,
       "version_minor": 0
      },
      "text/plain": [
       "Dropdown(description='Dimensionality reduction algorithm:', index=1, layout=Layout(height='40px', width='auto'…"
      ]
     },
     "metadata": {},
     "output_type": "display_data"
    }
   ],
   "source": [
    "display(dropdown)"
   ]
  },
  {
   "cell_type": "markdown",
   "id": "e85a7b26-7005-4c56-8166-12569434876f",
   "metadata": {},
   "source": [
    "Using the value property we can control what element was selected:"
   ]
  },
  {
   "cell_type": "code",
   "execution_count": 7,
   "id": "614559c1-e8f2-4285-ac7c-6baf98e91b47",
   "metadata": {},
   "outputs": [
    {
     "data": {
      "text/plain": [
       "1"
      ]
     },
     "execution_count": 7,
     "metadata": {},
     "output_type": "execute_result"
    }
   ],
   "source": [
    "dropdown.value"
   ]
  },
  {
   "cell_type": "markdown",
   "id": "59a18250-c7c1-4898-baca-004bda057e8e",
   "metadata": {},
   "source": [
    "Radio buttons for selection:"
   ]
  },
  {
   "cell_type": "code",
   "execution_count": 8,
   "id": "5d12c9ff-290a-4777-bc46-fbdcaa2c9f73",
   "metadata": {},
   "outputs": [
    {
     "data": {
      "application/vnd.jupyter.widget-view+json": {
       "model_id": "53008e99640d4f5fa32288f0964d7b74",
       "version_major": 2,
       "version_minor": 0
      },
      "text/plain": [
       "RadioButtons(description='Pizza topping:', options=('pepperoni', 'pineapple', 'anchovies'), value='pepperoni')"
      ]
     },
     "metadata": {},
     "output_type": "display_data"
    }
   ],
   "source": [
    "display(radio_buttons)"
   ]
  },
  {
   "cell_type": "markdown",
   "id": "2753efcd-8a26-48bc-8fde-af094073cdd8",
   "metadata": {},
   "source": [
    "Using the value property we can control what element was selected:"
   ]
  },
  {
   "cell_type": "code",
   "execution_count": 3,
   "id": "2504f05b-5cc8-48d1-94b2-c16dc3ebd1eb",
   "metadata": {},
   "outputs": [
    {
     "data": {
      "text/plain": [
       "'pepperoni'"
      ]
     },
     "execution_count": 3,
     "metadata": {},
     "output_type": "execute_result"
    }
   ],
   "source": [
    "radio_buttons.value"
   ]
  },
  {
   "cell_type": "code",
   "execution_count": null,
   "id": "df2af9c6-cfde-4b4a-9890-f85c48a86415",
   "metadata": {},
   "outputs": [],
   "source": []
  }
 ],
 "metadata": {
  "kernelspec": {
   "display_name": "Python 3 (ipykernel)",
   "language": "python",
   "name": "python3"
  },
  "language_info": {
   "codemirror_mode": {
    "name": "ipython",
    "version": 3
   },
   "file_extension": ".py",
   "mimetype": "text/x-python",
   "name": "python",
   "nbconvert_exporter": "python",
   "pygments_lexer": "ipython3",
   "version": "3.11.5"
  }
 },
 "nbformat": 4,
 "nbformat_minor": 5
}
